{
 "cells": [
  {
   "cell_type": "code",
   "execution_count": 2,
   "id": "69c86e9e",
   "metadata": {},
   "outputs": [],
   "source": [
    "#Import Dependencies\n",
    "from selenium import webdriver\n",
    "from selenium.webdriver.chrome.options import Options\n",
    "from selenium.webdriver.chrome.service import Service\n",
    "from webdriver_manager.chrome import ChromeDriverManager\n",
    "from selenium.webdriver.common.by import By\n",
    "from selenium.webdriver.support.ui import WebDriverWait\n",
    "from selenium.webdriver.support import expected_conditions as EC\n",
    "import os\n",
    "import time\n",
    "from bs4 import BeautifulSoup\n",
    "import re\n",
    "import pandas as pd\n",
    "import requests\n",
    "from urllib.parse import urlparse\n",
    "import json"
   ]
  },
  {
   "cell_type": "code",
   "execution_count": 2,
   "id": "b987a106",
   "metadata": {},
   "outputs": [],
   "source": [
    "#Configure Chromedriver\n",
    "\n",
    "chrome_install = ChromeDriverManager().install()\n",
    "\n",
    "folder = os.path.dirname(chrome_install)\n",
    "chromedriver_path = os.path.join(folder, \"chromedriver.exe\")"
   ]
  },
  {
   "cell_type": "code",
   "execution_count": 3,
   "id": "aab8dd21",
   "metadata": {},
   "outputs": [],
   "source": [
    "chrome_options = webdriver.ChromeOptions()\n",
    "prefs = {\"profile.default_content_setting_values.notifications\" : 2}\n",
    "chrome_options.add_experimental_option(\"prefs\",prefs)\n",
    "chrome_options.add_argument('--headless') # If you want to see the browser comment out this entire line"
   ]
  },
  {
   "cell_type": "code",
   "execution_count": 4,
   "id": "f3280df5",
   "metadata": {},
   "outputs": [],
   "source": [
    "# Initialize Chrome WebDriver\n",
    "browser = webdriver.Chrome(\n",
    "    service = Service(chromedriver_path),\n",
    "    options = chrome_options\n",
    ")"
   ]
  },
  {
   "cell_type": "code",
   "execution_count": 5,
   "id": "0ffcd8e6",
   "metadata": {},
   "outputs": [],
   "source": [
    "with open('Config_file.json') as f:\n",
    "    config = json.load(f)"
   ]
  },
  {
   "cell_type": "code",
   "execution_count": 6,
   "id": "e425e484",
   "metadata": {},
   "outputs": [],
   "source": [
    "#Setup search parameters\n",
    "Username = config['facebook']['username']\n",
    "Password = config['facebook']['password']"
   ]
  },
  {
   "cell_type": "code",
   "execution_count": 7,
   "id": "1939ce5b",
   "metadata": {},
   "outputs": [],
   "source": [
    "# Set up base URL\n",
    "url = f'https://www.facebook.com/groups/ConsumerWatchdogBW'\n",
    "\n",
    "# Visit the website\n",
    "browser.get(url)"
   ]
  },
  {
   "cell_type": "code",
   "execution_count": null,
   "id": "222c79ad",
   "metadata": {},
   "outputs": [],
   "source": [
    "# Locate the button with aria-label=\"Decline optional cookies\" (Europe)\n",
    "try:\n",
    "    phone_input = browser.find_element(By.XPATH, '//*[@id=\"login_popup_cta_form\"]/div/div[3]/div/div/div/label')\n",
    "    phone_input.send_keys(Username)\n",
    "    password_input = browser.find_element(By.XPATH, '//*[@id=\"login_popup_cta_form\"]/div/div[4]/div/div/div/label')\n",
    "    password_input.send_keys(Password)\n",
    "    login_click = browser.find_element(By.XPATH, '//*[@id=\"login_popup_cta_form\"]/div/div[5]/div')\n",
    "    login_click.click()\n",
    "    print(\"Logged In!\")\n",
    "    \n",
    "except:\n",
    "    print(\"Could not Login!\")\n",
    "    pass\n",
    "\n",
    "browser.implicitly_wait(20)"
   ]
  },
  {
   "cell_type": "code",
   "execution_count": null,
   "id": "97025871",
   "metadata": {},
   "outputs": [],
   "source": [
    "#Scroll down to load all results\n",
    "try:\n",
    "    # Get the initial scroll position\n",
    "    last_height = browser.execute_script(\"return document.body.scrollHeight\")\n",
    "    time.sleep(10)\n",
    "    html_list = []\n",
    "\n",
    "    Count = 0\n",
    "    \n",
    "    while True:\n",
    "        browser.implicitly_wait(15)\n",
    "        # Scroll down to the bottom of the page using JavaScript\n",
    "        browser.execute_script(\"window.scrollTo(0, document.body.scrollHeight);\")\n",
    "        time.sleep(15)\n",
    "\n",
    "        # Get the new scroll position\n",
    "        new_height = browser.execute_script(\"return document.body.scrollHeight\")\n",
    "\n",
    "        # Retrieve the HTML\n",
    "        html = browser.page_source\n",
    "        html_list.append(html)\n",
    "        # print('Html Append')\n",
    "\n",
    "        Count += 1\n",
    "\n",
    "        # Check if we've reached the bottom\n",
    "        if new_height == last_height:\n",
    "            break\n",
    "        \n",
    "        # Update the scroll position\n",
    "        last_height = new_height\n",
    "        \n",
    "        print(f\"scrolled: {Count}s\")\n",
    "        \n",
    "except Exception as e:\n",
    "    print(f\"An error occurred: {e}\")"
   ]
  },
  {
   "cell_type": "code",
   "execution_count": null,
   "id": "957ca617",
   "metadata": {},
   "outputs": [],
   "source": [
    "# Combine the HTMLs\n",
    "full_html = '\\n'.join(html_list)\n",
    "\n",
    "# Use BeautifulSoup to parse the HTML\n",
    "soup = BeautifulSoup(full_html, 'html.parser')\n",
    "\n",
    "#Close the browser\n",
    "browser.close()"
   ]
  },
  {
   "cell_type": "code",
   "execution_count": null,
   "id": "618734b2",
   "metadata": {},
   "outputs": [],
   "source": [
    "# Find all the posts' html\n",
    "Posts = soup.find_all('div', class_='x9f619 x1n2onr6 x1ja2u2z x1jx94hy x1qpq9i9 xdney7k xu5ydu1 xt3gfkd xh8yej3 x6ikm8r x10wlt62 xquyuld')"
   ]
  },
  {
   "cell_type": "code",
   "execution_count": null,
   "id": "ff29c103",
   "metadata": {},
   "outputs": [],
   "source": [
    "count = 0\n",
    "\n",
    "for entry in Posts:\n",
    "    count += 1\n",
    "\n",
    "print(count)\n",
    "# print(Name.prettify())"
   ]
  },
  {
   "cell_type": "code",
   "execution_count": 13,
   "id": "b34b1ca5",
   "metadata": {},
   "outputs": [],
   "source": [
    "def parse_facebook_url(url):\n",
    "  # Parse the URL\n",
    "  parsed_url = 'https://www.facebook.com' + url.split('?')[0]\n",
    "  return parsed_url"
   ]
  },
  {
   "cell_type": "code",
   "execution_count": 14,
   "id": "122c1843",
   "metadata": {},
   "outputs": [],
   "source": [
    "fb_Posts = []\n",
    "\n",
    "for index, post in enumerate(Posts):\n",
    "    PostID = index + 1\n",
    "    Name = post.find('span', class_='html-span xdj266r x11i5rnm xat24cr x1mh8g0r xexx8yu x4uap5 x18d9i69 xkhd6sd x1hl2dhg x16tdsg8 x1vvkbs')\n",
    "    if Name:\n",
    "        Author = Name.get_text(strip=True)\n",
    "    else:\n",
    "        Author = None \n",
    "    Post_Text = post.find('div', class_='xdj266r x11i5rnm xat24cr x1mh8g0r x1vvkbs x126k92a')\n",
    "    if Post_Text:\n",
    "        Post_Content = Post_Text.get_text(strip=True)\n",
    "    else:\n",
    "        Post_Content = None \n",
    "    All_Reactions = post.find('span', class_='xt0b8zv x1jx94hy xrbpyxo xl423tq')\n",
    "    if All_Reactions:\n",
    "        No_of_Reacts = All_Reactions.get_text(strip=True)\n",
    "    else:\n",
    "        No_of_Reacts = None\n",
    "    All_Comments = post.find('span', class_='x193iq5w xeuugli x13faqbe x1vvkbs x1xmvt09 x1lliihq x1s928wv xhkezso x1gmr53x x1cpjm7i x1fgarty x1943h6x xudqn12 x3x7a5m x6prxxf xvq8zen xo1l8bm xi81zsa')\n",
    "    if All_Comments:\n",
    "        No_of_Comments = All_Comments.get_text(strip=True)\n",
    "    else:\n",
    "        No_of_Comments = None\n",
    "\n",
    "    TheComments = post.find_all('div', class_=\"xdj266r x11i5rnm xat24cr x1mh8g0r x1vvkbs\")\n",
    "    if TheComments:\n",
    "        Comments = TheComments\n",
    "    else:\n",
    "        Comments = None\n",
    "\n",
    "    if Comments is not None and len(Comments) > 0:\n",
    "        Comment1 = Comments[0]\n",
    "        First_Comment = Comment1.get_text()\n",
    "        if len(Comments) > 1:\n",
    "            Comment2 = Comments[1]\n",
    "            Second_Comment = Comment2.get_text()\n",
    "        else:\n",
    "            Second_Comment = None\n",
    "    else:\n",
    "        First_Comment = None\n",
    "        Second_Comment = None\n",
    "    \n",
    "    data = {\n",
    "        # 'Post Id': PostID,\n",
    "        'Author': Author,\n",
    "        'Post Content': Post_Content,\n",
    "        # 'Post Url': Post_Url\n",
    "        'No of Reactions': No_of_Reacts,\n",
    "        'No of Comments': No_of_Comments,\n",
    "        'Comment One': First_Comment,\n",
    "        'Comment Two': Second_Comment\n",
    "    }\n",
    "    fb_Posts.append(data)\n",
    "\n",
    "Dataset = pd.DataFrame(fb_Posts)\n",
    "\n"
   ]
  },
  {
   "cell_type": "code",
   "execution_count": null,
   "id": "c16ad30c",
   "metadata": {},
   "outputs": [],
   "source": [
    "Dataset"
   ]
  },
  {
   "cell_type": "code",
   "execution_count": 16,
   "id": "119d4297",
   "metadata": {},
   "outputs": [],
   "source": [
    "New_Data = Dataset.copy()"
   ]
  },
  {
   "cell_type": "code",
   "execution_count": 17,
   "id": "6ac04c90",
   "metadata": {},
   "outputs": [],
   "source": [
    "FB_Group_Data = New_Data.drop_duplicates(ignore_index=True)"
   ]
  },
  {
   "cell_type": "code",
   "execution_count": 18,
   "id": "cf62f3bf",
   "metadata": {},
   "outputs": [],
   "source": [
    "FB_Group_Data = FB_Group_Data.dropna(subset=['Author'])"
   ]
  },
  {
   "cell_type": "code",
   "execution_count": null,
   "id": "1f3dc1ad",
   "metadata": {},
   "outputs": [],
   "source": [
    "FB_Group_Data"
   ]
  },
  {
   "cell_type": "code",
   "execution_count": 22,
   "id": "f53b5482",
   "metadata": {},
   "outputs": [],
   "source": [
    "FB_Group_Data.to_csv('Latest_Dataset_v1.csv', encoding='utf-8', index = True)"
   ]
  }
 ],
 "metadata": {
  "kernelspec": {
   "display_name": "Python 3 (ipykernel)",
   "language": "python",
   "name": "python3"
  },
  "language_info": {
   "codemirror_mode": {
    "name": "ipython",
    "version": 3
   },
   "file_extension": ".py",
   "mimetype": "text/x-python",
   "name": "python",
   "nbconvert_exporter": "python",
   "pygments_lexer": "ipython3",
   "version": "3.11.9"
  }
 },
 "nbformat": 4,
 "nbformat_minor": 5
}
